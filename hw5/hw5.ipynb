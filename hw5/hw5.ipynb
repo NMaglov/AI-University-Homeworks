{
 "cells": [
  {
   "cell_type": "code",
   "execution_count": 19,
   "metadata": {},
   "outputs": [],
   "source": [
    "import random\n",
    "import math\n",
    "\n",
    "data = open(\"./dataset.data\", \"r\").readlines()\n",
    "for i in range(len(data)):\n",
    "    data[i] = data[i].split(',')\n",
    "    for j in range(len(data[i])):\n",
    "        if data[i][j] == 'republican' or data[i][j] == 'y':\n",
    "            data[i][j] = 0\n",
    "        elif data[i][j] == 'democrat' or data[i][j] == 'n':\n",
    "            data[i][j] = 1\n",
    "        else:\n",
    "            data[i][j] = 2\n",
    "\n",
    "\n",
    "for i in range(len(data)):\n",
    "    for j in range(len(data[i])):\n",
    "        if data[i][j]==2:\n",
    "            c=[0,0]\n",
    "            for k in range(len(data)):\n",
    "                if data[k][j]!=2:\n",
    "                    c[data[k][j]]+=1\n",
    "            if c[0]>c[1]:\n",
    "                data[i][j]=0\n",
    "            else:\n",
    "                data[i][j]=1"
   ]
  },
  {
   "cell_type": "code",
   "execution_count": 20,
   "metadata": {},
   "outputs": [],
   "source": [
    "def calc_prob(data):\n",
    "    n = len(data)\n",
    "    k = len(data[0])\n",
    "    p = []\n",
    "\n",
    "    for i in range(k):\n",
    "        cnt = [0]*2\n",
    "        for j in range(2):\n",
    "            cnt[j] = [0]*2\n",
    "\n",
    "        for j in range(n):\n",
    "            cnt[data[j][i]][data[j][0]] += 1\n",
    "\n",
    "        p.append(cnt)\n",
    "\n",
    "    alpha = 1\n",
    "    for i in range(1, k):\n",
    "        for j in range(2):\n",
    "            for k in range(2):\n",
    "                p[i][j][k] += alpha\n",
    "                p[i][j][k] /= (p[0][k][k]+2*alpha)\n",
    "\n",
    "    for i in range(2):\n",
    "        p[0][i][i] += alpha\n",
    "        p[0][i][i] /= (n+2*alpha)\n",
    "\n",
    "    return p"
   ]
  },
  {
   "cell_type": "code",
   "execution_count": 21,
   "metadata": {},
   "outputs": [],
   "source": [
    "def predict(p, data):\n",
    "    p0 = p[0][0][0]\n",
    "    p1 = p[0][1][1]\n",
    "    for i in range(1, len(data)):\n",
    "        p0 += math.log2(p[i][data[i]][0])\n",
    "        p1 += math.log2(p[i][data[i]][1])\n",
    "    if p0 > p1:\n",
    "        return 0\n",
    "    else:\n",
    "        return 1"
   ]
  },
  {
   "cell_type": "code",
   "execution_count": 22,
   "metadata": {},
   "outputs": [
    {
     "name": "stdout",
     "output_type": "stream",
     "text": [
      "0.9090909090909091\n",
      "0.9545454545454546\n",
      "0.8409090909090909\n",
      "0.9090909090909091\n",
      "0.9772727272727273\n",
      "0.9090909090909091\n",
      "0.8863636363636364\n",
      "0.8863636363636364\n",
      "0.8181818181818182\n",
      "0.9487179487179487\n",
      "average accuracy:  0.9039627039627041\n"
     ]
    }
   ],
   "source": [
    "indexes = [i for i in range(len(data))]\n",
    "random.shuffle(indexes)\n",
    "\n",
    "size = 44\n",
    "avgacc = 0\n",
    "for i in range(10):\n",
    "    train = []\n",
    "    test = []\n",
    "    for j in range(len(data)):\n",
    "        if j >= i*size and j < (i+1)*size:\n",
    "            test.append(data[indexes[j]])\n",
    "        else:\n",
    "            train.append(data[indexes[j]])\n",
    "    p = calc_prob(train)\n",
    "\n",
    "    acc = 0\n",
    "    for x in test:\n",
    "        cur = predict(p, x)\n",
    "        if cur == x[0]:\n",
    "            acc += 1\n",
    "    acc /= len(test)\n",
    "    print(acc)\n",
    "\n",
    "    avgacc += acc\n",
    "\n",
    "avgacc /= 10\n",
    "print(\"average accuracy: \", avgacc)"
   ]
  }
 ],
 "metadata": {
  "kernelspec": {
   "display_name": "Python 3",
   "language": "python",
   "name": "python3"
  },
  "language_info": {
   "codemirror_mode": {
    "name": "ipython",
    "version": 3
   },
   "file_extension": ".py",
   "mimetype": "text/x-python",
   "name": "python",
   "nbconvert_exporter": "python",
   "pygments_lexer": "ipython3",
   "version": "3.12.3"
  },
  "orig_nbformat": 4
 },
 "nbformat": 4,
 "nbformat_minor": 2
}
